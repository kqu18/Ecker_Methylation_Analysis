{
 "cells": [
  {
   "cell_type": "code",
   "execution_count": null,
   "id": "0dcebfca-e221-45d7-85cd-4164adb79e37",
   "metadata": {},
   "outputs": [],
   "source": [
    "import pandas as pd\n",
    "import numpy as np\n",
    "# from scipy.sparse import csr_matrix, load_npz, save_npz, vstack\n",
    "import seaborn as sns\n",
    "import matplotlib.pyplot as plt\n",
    "# import json\n",
    "from concurrent.futures import ProcessPoolExecutor, as_completed\n",
    "import anndata\n",
    "import scanpy as sc\n",
    "# from sklearn.preprocessing import StandardScaler\n",
    "import warnings\n",
    "warnings.filterwarnings('ignore')\n",
    "#from ALLCools.mcds.correlation import corr\n",
    "from qnorm import quantile_normalize"
   ]
  },
  {
   "cell_type": "code",
   "execution_count": null,
   "id": "c1faf6b6-e459-43d1-9e5f-45e88df86493",
   "metadata": {
    "tags": [
     "parameters"
    ]
   },
   "outputs": [],
   "source": [
    "chunk_size = 3\n",
    "cpu = 40\n",
    "filter_corr= 0.3\n",
    "mc_type = 'CHN'\n"
   ]
  },
  {
   "cell_type": "markdown",
   "id": "2d0a8007-159b-4fcb-9890-934a17a5e629",
   "metadata": {
    "tags": []
   },
   "source": [
    "## define"
   ]
  },
  {
   "cell_type": "code",
   "execution_count": null,
   "id": "5e3812f5-03f9-4816-88e5-d815a45f7e1b",
   "metadata": {},
   "outputs": [],
   "source": [
    "#ArithmeticError#@njit\n",
    "def _mean(a):\n",
    "    n = len(a)\n",
    "    b = np.empty(n)\n",
    "    for i in range(n):\n",
    "        b[i] = a[i].mean()\n",
    "    return b\n",
    "\n",
    "\n",
    "#@njit\n",
    "def _std(a):\n",
    "    n = len(a)\n",
    "    b = np.empty(n)\n",
    "    for i in range(n):\n",
    "        b[i] = a[i].std()\n",
    "    return b\n",
    "\n",
    "\n",
    "#@njit\n",
    "def _corr(a, b):\n",
    "    \"\"\"\n",
    "    Correlation between rows in a and b, no nan value\n",
    "    \"\"\"\n",
    "    n, k = a.shape\n",
    "    m, k = b.shape\n",
    "    \n",
    "    mu_a = _mean(a)\n",
    "    mu_b = _mean(b)\n",
    "    sig_a = _std(a)\n",
    "    sig_b = _std(b)\n",
    "\n",
    "    out = np.empty((n, m))\n",
    "\n",
    "    for i in range(n):\n",
    "        for j in range(m):\n",
    "            _sig_a = sig_a[i]\n",
    "            _sig_b = sig_b[j]\n",
    "            if _sig_a == 0 or _sig_b == 0:\n",
    "                # if any variable std == 0\n",
    "                out[i, j] = np.nan\n",
    "            else:\n",
    "                out[i, j] = (a[i] - mu_a[i]) @ (b[j] -\n",
    "                                                mu_b[j]) / k / _sig_a / _sig_b\n",
    "    return out\n",
    "\n",
    "\n",
    "def corr(a, b, method='pearson'):\n",
    "    if method.lower()[0] == 'p':\n",
    "        pass\n",
    "    elif method.lower()[0] == 's':\n",
    "        # turn a, b in to rank matrix\n",
    "        a = a.argsort(axis=1).argsort(axis=1)\n",
    "        b = b.argsort(axis=1).argsort(axis=1)\n",
    "    else:\n",
    "        raise ValueError('Method can only be pearson or spearman')\n",
    "\n",
    "    return _corr(a, b)\n",
    "\n",
    "def get_corr_df(results, filter_corr):\n",
    "    final_data = []\n",
    "    for i in range(len(results)):\n",
    "        final_data.append(pd.DataFrame(results[i])) \n",
    "    \n",
    "    corr_df = pd.concat(final_data).T\n",
    "    corr_df.index = rna_df.index\n",
    "    corr_df.columns = mc_df.index\n",
    "    \n",
    "    filtered_corr_df = abs(corr_df) > filter_corr\n",
    "    filtered_corr_df = filtered_corr_df.astype(int)\n",
    "    \n",
    "    return corr_df, filtered_corr_df\n"
   ]
  },
  {
   "cell_type": "code",
   "execution_count": null,
   "id": "4df16af0-4329-46a5-9518-1fadbeaa8dca",
   "metadata": {},
   "outputs": [],
   "source": [
    "rna_df = pd.read_csv('cluster_rna_matrix.csv', index_col = 0)\n",
    "mc_df = pd.read_csv(f'{mc_type}_cluster_mc_frac_matrix.csv', index_col = 0)"
   ]
  },
  {
   "cell_type": "code",
   "execution_count": null,
   "id": "b56d0461-4ea3-4023-8660-014b2b4d2b54",
   "metadata": {},
   "outputs": [],
   "source": [
    "mc_df = mc_df.loc[rna_df.index]"
   ]
  },
  {
   "cell_type": "markdown",
   "id": "36508a50-14e8-4780-be9e-b24d67cf7807",
   "metadata": {
    "tags": []
   },
   "source": [
    "## count corr"
   ]
  },
  {
   "cell_type": "code",
   "execution_count": null,
   "id": "5db8e150-b78e-4804-8332-80f9f87e5053",
   "metadata": {},
   "outputs": [],
   "source": [
    "cherry_genes = ['AT2G10940','AT4G30400','AT4G04610',\n",
    "                'AT2G33380','AT1G57590','AT5G53450']"
   ]
  },
  {
   "cell_type": "code",
   "execution_count": 7,
   "id": "16bc2ade-8528-4319-a38f-a4ea0d4aa16a",
   "metadata": {},
   "outputs": [],
   "source": [
    "# rna_df = rna_df.loc[cherry_genes]\n",
    "# mc_df = mc_df.loc[cherry_genes]"
   ]
  },
  {
   "cell_type": "code",
   "execution_count": 8,
   "id": "f840e233-d30f-4f11-9986-1de1a7abc3ea",
   "metadata": {},
   "outputs": [],
   "source": [
    "rna_df_array = np.array(rna_df)\n",
    "mc_df_array = np.array(mc_df)\n",
    "\n",
    "results = []\n",
    "with ProcessPoolExecutor(cpu) as executor:\n",
    "    futures = {}\n",
    "    for i, chunk_start in enumerate(range(0, mc_df_array.shape[0], chunk_size)):\n",
    "        mc_data = mc_df_array[chunk_start:chunk_start+chunk_size, :]\n",
    "        \n",
    "        future = executor.submit(corr,\n",
    "                                 a=mc_data, \n",
    "                                 b=rna_df_array, \n",
    "                                 )\n",
    "        futures[future] = i\n",
    "\n",
    "    results = {}\n",
    "    for future in as_completed(futures):\n",
    "        chunk_id = futures[future]\n",
    "        masked_pass_record = future.result()\n",
    "        results[chunk_id] = masked_pass_record"
   ]
  },
  {
   "cell_type": "code",
   "execution_count": 9,
   "id": "ba2ea8ae-74b7-4c19-9054-7a5b50a42ceb",
   "metadata": {},
   "outputs": [],
   "source": [
    "corr_df, filtered_corr_df = get_corr_df(results, filter_corr = filter_corr)"
   ]
  },
  {
   "cell_type": "code",
   "execution_count": 20,
   "id": "a81ba9ce-4c31-4c14-80b1-d87a9bfc922e",
   "metadata": {},
   "outputs": [],
   "source": [
    "#corr_df.to_pickle(f\"result/corr_{mc_type}.pkl\")"
   ]
  },
  {
   "cell_type": "markdown",
   "id": "da157853-e88a-405c-849a-168b869766cb",
   "metadata": {
    "tags": []
   },
   "source": [
    "## shuffle"
   ]
  },
  {
   "cell_type": "code",
   "execution_count": 11,
   "id": "ccfa2866-a567-4d0f-ac61-1746d053995a",
   "metadata": {},
   "outputs": [],
   "source": [
    "def shuffle_within_sample(df):\n",
    "    for sample in df.columns:\n",
    "        np.random.shuffle(df[sample])\n",
    "    \n",
    "    return df"
   ]
  },
  {
   "cell_type": "code",
   "execution_count": 12,
   "id": "77fded21-bad5-43df-b7dc-1cfd871387c9",
   "metadata": {},
   "outputs": [],
   "source": [
    "chunk_size = 50\n",
    "with ProcessPoolExecutor(cpu) as executor:\n",
    "    futures = {}\n",
    "    for i, chunk_start in enumerate(range(0, rna_df.shape[1], chunk_size)):\n",
    "        tmpdf = rna_df.iloc[:,chunk_start:chunk_start+chunk_size]\n",
    "    \n",
    "        future = executor.submit(shuffle_within_sample,\n",
    "                                 tmpdf)\n",
    "        futures[future] = i\n",
    "\n",
    "    results = {}\n",
    "    for future in as_completed(futures):\n",
    "        chunk_id = futures[future]\n",
    "        masked_pass_record = future.result()\n",
    "        results[chunk_id] = masked_pass_record\n",
    "        \n",
    "rna_df_s = pd.concat(results.values(), axis = 1)\n"
   ]
  },
  {
   "cell_type": "code",
   "execution_count": 13,
   "id": "caff8bee-6b8c-4e8f-be70-1615c966102d",
   "metadata": {},
   "outputs": [],
   "source": [
    "chunk_size = 50\n",
    "\n",
    "with ProcessPoolExecutor(cpu) as executor:\n",
    "    futures = {}\n",
    "    for i, chunk_start in enumerate(range(0, mc_df.shape[1], chunk_size)):\n",
    "        tmpdf = mc_df.iloc[:,chunk_start:chunk_start+chunk_size]\n",
    "    \n",
    "        future = executor.submit(shuffle_within_sample,\n",
    "                                 tmpdf)\n",
    "        futures[future] = i\n",
    "\n",
    "    results = {}\n",
    "    for future in as_completed(futures):\n",
    "        chunk_id = futures[future]\n",
    "        masked_pass_record = future.result()\n",
    "        results[chunk_id] = masked_pass_record\n",
    "        \n",
    "mc_df_s = pd.concat(results.values(), axis = 1)\n"
   ]
  },
  {
   "cell_type": "code",
   "execution_count": 14,
   "id": "4dbf1cc5-fa03-45bf-8a75-2ab62c6fa980",
   "metadata": {},
   "outputs": [],
   "source": [
    "rna_df_array = np.array(rna_df_s)\n",
    "mc_df_array = np.array(mc_df_s)\n",
    "\n",
    "results = []\n",
    "with ProcessPoolExecutor(cpu) as executor:\n",
    "    futures = {}\n",
    "    for i, chunk_start in enumerate(range(0, mc_df_array.shape[0], chunk_size)):\n",
    "        mc_data = mc_df_array[chunk_start:chunk_start+chunk_size, :]\n",
    "        \n",
    "        future = executor.submit(corr,\n",
    "                                 a=mc_data, \n",
    "                                 b=rna_df_array, \n",
    "                                 )\n",
    "        futures[future] = i\n",
    "\n",
    "    results = {}\n",
    "    for future in as_completed(futures):\n",
    "        chunk_id = futures[future]\n",
    "        masked_pass_record = future.result()\n",
    "        results[chunk_id] = masked_pass_record"
   ]
  },
  {
   "cell_type": "code",
   "execution_count": 15,
   "id": "a3e01298-1a19-43ab-8e0b-14d51d8a5890",
   "metadata": {},
   "outputs": [],
   "source": [
    "s_corr_df, s_filtered_corr_df = get_corr_df(results, filter_corr = filter_corr)"
   ]
  },
  {
   "cell_type": "code",
   "execution_count": 21,
   "id": "d203defc-3c21-43e2-a309-652f6713729b",
   "metadata": {},
   "outputs": [],
   "source": [
    "s_corr_df.to_pickle(f\"result/s_corr_{mc_type}.pkl\")"
   ]
  },
  {
   "cell_type": "markdown",
   "id": "cb02ffec-efa1-4608-801b-994ce8904a2a",
   "metadata": {},
   "source": [
    "## get result"
   ]
  },
  {
   "cell_type": "code",
   "execution_count": null,
   "id": "9bb12937-db43-4aa0-83f2-8c0c0f973019",
   "metadata": {},
   "outputs": [],
   "source": [
    "# corr_df = pd.read_pickle(f\"result/corr_{mc_type}.pkl\")\n",
    "# s_corr_df = pd.read_pickle(f\"result/s_corr_{mc_type}.pkl\")"
   ]
  },
  {
   "cell_type": "code",
   "execution_count": 16,
   "id": "4cce77d5-dbff-47de-9865-d338b393532a",
   "metadata": {},
   "outputs": [],
   "source": [
    "corr_df_diagonal_values = np.diag(corr_df.values)\n",
    "s_corr_df_diagonal_values = np.diag(s_corr_df.values)"
   ]
  },
  {
   "cell_type": "code",
   "execution_count": 22,
   "id": "4b1eb92b-fe8b-4ebc-8e03-e58dde3213aa",
   "metadata": {},
   "outputs": [
    {
     "data": {
      "image/png": "[encoded data removed]",
      "text/plain": [
       "<Figure size 1200x900 with 1 Axes>"
      ]
     },
     "metadata": {
      "needs_background": "light"
     },
     "output_type": "display_data"
    }
   ],
   "source": [
    "fig, ax = plt.subplots(figsize = (4,3), dpi = 300)\n",
    "sns.distplot(corr_df_diagonal_values, ax = ax,kde=False,bins=300, label = 'mc-rna')\n",
    "sns.distplot(s_corr_df_diagonal_values,ax = ax, kde=False,bins=300, label = 'shuffle')\n",
    "\n",
    "ax.set_xlim(-1,1)\n",
    "ax.set_xlabel(f'{mc_type} mc rna correlation')\n",
    "plt.legend()\n",
    "fig.savefig(f'{mc_type}_mc_rna_correlation.pdf', bbox_inches='tight')"
   ]
  },
  {
   "cell_type": "code",
   "execution_count": null,
   "id": "2b6a469f-c7fb-490a-95bd-b5d212fd91c4",
   "metadata": {},
   "outputs": [],
   "source": [
    "cg_corr_df = pd.read_pickle(f\"result/corr_CGN.pkl\")\n",
    "ch_corr_df = pd.read_pickle(f\"result/corr_CHN.pkl\")"
   ]
  },
  {
   "cell_type": "code",
   "execution_count": null,
   "id": "0f695446-f7d7-4194-8c5c-e7961c297474",
   "metadata": {},
   "outputs": [],
   "source": []
  },
  {
   "cell_type": "code",
   "execution_count": null,
   "id": "f9caad22-b59b-4f4f-9050-c584029d310a",
   "metadata": {},
   "outputs": [],
   "source": []
  },
  {
   "cell_type": "code",
   "execution_count": null,
   "id": "a90e6c95-2678-403e-8ae1-efb15aa7d851",
   "metadata": {},
   "outputs": [],
   "source": []
  },
  {
   "cell_type": "code",
   "execution_count": 37,
   "id": "680a4dfa-c736-4c5e-b6d8-15d4029f7ac0",
   "metadata": {},
   "outputs": [],
   "source": [
    "all_genes = []\n",
    "all_cg_corr = []\n",
    "all_ch_corr = []\n",
    "\n",
    "for gene in cg_corr_df.columns:\n",
    "    all_genes.append(gene)\n",
    "    all_cg_corr.append(cg_corr_df.loc[gene,gene])\n",
    "    all_ch_corr.append(ch_corr_df.loc[gene,gene])"
   ]
  },
  {
   "cell_type": "code",
   "execution_count": 53,
   "id": "a558b0b3-d5aa-45e2-bc6d-1fb8645e7a42",
   "metadata": {},
   "outputs": [],
   "source": [
    "mc_corr_df = pd.DataFrame({'cg_corr':all_cg_corr,\n",
    "             'ch_corr':all_ch_corr}, index = all_genes)"
   ]
  },
  {
   "cell_type": "code",
   "execution_count": 61,
   "id": "014b6829-45a9-4339-9494-023fc593e236",
   "metadata": {},
   "outputs": [],
   "source": [
    "mc_corr_df.to_csv('mc_rna_corr.csv')"
   ]
  },
  {
   "cell_type": "code",
   "execution_count": null,
   "id": "0ff4b10f-df03-41b2-8a94-35e5d91996b7",
   "metadata": {},
   "outputs": [],
   "source": []
  },
  {
   "cell_type": "code",
   "execution_count": null,
   "id": "7f9dc61e-ce3b-43b2-841e-f7fe0beb6aa6",
   "metadata": {},
   "outputs": [],
   "source": []
  },
  {
   "cell_type": "code",
   "execution_count": null,
   "id": "7210c81f-a711-4b54-8fa0-4373c1082ce7",
   "metadata": {},
   "outputs": [],
   "source": []
  }
 ],
 "metadata": {
  "kernelspec": {
   "display_name": "Python 3 (ipykernel)",
   "language": "python",
   "name": "python3"
  },
  "language_info": {
   "codemirror_mode": {
    "name": "ipython",
    "version": 3
   },
   "file_extension": ".py",
   "mimetype": "text/x-python",
   "name": "python",
   "nbconvert_exporter": "python",
   "pygments_lexer": "ipython3",
   "version": "3.7.12"
  }
 },
 "nbformat": 4,
 "nbformat_minor": 5
}
